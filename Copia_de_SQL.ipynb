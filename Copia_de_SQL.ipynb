{
  "nbformat": 4,
  "nbformat_minor": 0,
  "metadata": {
    "kernelspec": {
      "display_name": "Python 3",
      "language": "python",
      "name": "python3"
    },
    "language_info": {
      "codemirror_mode": {
        "name": "ipython",
        "version": 3
      },
      "file_extension": ".py",
      "mimetype": "text/x-python",
      "name": "python",
      "nbconvert_exporter": "python",
      "pygments_lexer": "ipython3",
      "version": "3.7.0"
    },
    "colab": {
      "name": "Copia de SQL.ipynb",
      "provenance": [],
      "include_colab_link": true
    }
  },
  "cells": [
    {
      "cell_type": "markdown",
      "metadata": {
        "id": "view-in-github",
        "colab_type": "text"
      },
      "source": [
        "<a href=\"https://colab.research.google.com/github/TheusZer0/TheusZero/blob/gh-pages/Copia_de_SQL.ipynb\" target=\"_parent\"><img src=\"https://colab.research.google.com/assets/colab-badge.svg\" alt=\"Open In Colab\"/></a>"
      ]
    },
    {
      "cell_type": "markdown",
      "metadata": {
        "id": "XPiomJWuvGJE"
      },
      "source": [
        "# SQL\n",
        "## Introducción\n",
        "\n",
        "Durante esta actividad vamos a aprender los conceptos básicos de SQL. Vamos a aprender a insertar, eliminar y actualizar datos de una base de datos además de hacer consultas sencillas sobre ellos.\n",
        "\n",
        "\n",
        "### Requisitos\n",
        "\n",
        "Para esta actividad, así como en las siguientes actividades de SQL vamos a utilizar\n",
        "- Python 3\n",
        "- Jupyter\n",
        "- La librería ipython-sql. Para instalarla pueden hacerlo con pip3:\n",
        "```\n",
        "pip3 install ipython-sql\n",
        "```\n",
        "- SQLite3, que viene junto con la instalación de Python\n",
        "\n",
        "### Outline\n",
        "En esta actividad aprendermos a:\n",
        "- Crear y modificar tablas.\n",
        "- Insertar, eliminar y actualizar datos.\n",
        "- Crear llaves en las tablas.\n",
        "- Hacer consultas que involucren selección, proyección, producto cruz y operaciones de conjuntos.\n",
        "- Consultas básicas de agregación.\n",
        "\n",
        "### Esquema\n",
        "Para esta actividad vamos a trabajar con el siguiente esquema:\n",
        "- Magos(mid INT PRIMARY KEY, mnombre VARCHAR(100), medad INT)\n",
        "- Asignaturas(aid INT PRIMARY KEY, anombre VARCHAR(100), acreditos VARCHAR(100))\n",
        "- Cursos(mid INT, aid INT, fecha DATE, PRIMARY KEY(mid, aid))\n",
        "Que corresponde a magos que toman asignaturas en un curso de un año. El mid y aid en la tabla Curso proviene de las tablas Magos y Asignaturas respectivamente."
      ]
    },
    {
      "cell_type": "markdown",
      "metadata": {
        "id": "y2ZJhBesvGJH"
      },
      "source": [
        "## Actividad\n",
        "\n",
        "### Crear tablas, eliminar tablas y llaves primarias\n",
        "\n",
        "En esta actividad vamos a utilizar `ipython-sql` para tener acceso a SQL desde este _notebook_. Lo vamos a importar a continuación."
      ]
    },
    {
      "cell_type": "code",
      "metadata": {
        "id": "9wL7JF1HvGJL",
        "colab": {
          "base_uri": "https://localhost:8080/",
          "height": 35
        },
        "outputId": "e25332c0-f256-4d70-c11b-888969f901bd"
      },
      "source": [
        "import os\n",
        "import inspect\n",
        "inspect.getfile(os)"
      ],
      "execution_count": null,
      "outputs": [
        {
          "output_type": "execute_result",
          "data": {
            "application/vnd.google.colaboratory.intrinsic+json": {
              "type": "string"
            },
            "text/plain": [
              "'/usr/lib/python3.6/os.py'"
            ]
          },
          "metadata": {
            "tags": []
          },
          "execution_count": 1
        }
      ]
    },
    {
      "cell_type": "code",
      "metadata": {
        "id": "PAHeTp3UbcBM",
        "colab": {
          "base_uri": "https://localhost:8080/"
        },
        "outputId": "3c834229-fdea-4b1d-ce57-d27468dbbec3"
      },
      "source": [
        "pip install ipython-sql"
      ],
      "execution_count": null,
      "outputs": [
        {
          "output_type": "stream",
          "text": [
            "Requirement already satisfied: ipython-sql in /usr/local/lib/python3.6/dist-packages (0.3.9)\n",
            "Requirement already satisfied: sqlalchemy>=0.6.7 in /usr/local/lib/python3.6/dist-packages (from ipython-sql) (1.3.20)\n",
            "Requirement already satisfied: prettytable in /usr/local/lib/python3.6/dist-packages (from ipython-sql) (1.0.1)\n",
            "Requirement already satisfied: sqlparse in /usr/local/lib/python3.6/dist-packages (from ipython-sql) (0.4.1)\n",
            "Requirement already satisfied: ipython-genutils>=0.1.0 in /usr/local/lib/python3.6/dist-packages (from ipython-sql) (0.2.0)\n",
            "Requirement already satisfied: six in /usr/local/lib/python3.6/dist-packages (from ipython-sql) (1.15.0)\n",
            "Requirement already satisfied: ipython>=1.0 in /usr/local/lib/python3.6/dist-packages (from ipython-sql) (5.5.0)\n",
            "Requirement already satisfied: setuptools in /usr/local/lib/python3.6/dist-packages (from prettytable->ipython-sql) (50.3.2)\n",
            "Requirement already satisfied: wcwidth in /usr/local/lib/python3.6/dist-packages (from prettytable->ipython-sql) (0.2.5)\n",
            "Requirement already satisfied: pygments in /usr/local/lib/python3.6/dist-packages (from ipython>=1.0->ipython-sql) (2.6.1)\n",
            "Requirement already satisfied: prompt-toolkit<2.0.0,>=1.0.4 in /usr/local/lib/python3.6/dist-packages (from ipython>=1.0->ipython-sql) (1.0.18)\n",
            "Requirement already satisfied: decorator in /usr/local/lib/python3.6/dist-packages (from ipython>=1.0->ipython-sql) (4.4.2)\n",
            "Requirement already satisfied: simplegeneric>0.8 in /usr/local/lib/python3.6/dist-packages (from ipython>=1.0->ipython-sql) (0.8.1)\n",
            "Requirement already satisfied: pickleshare in /usr/local/lib/python3.6/dist-packages (from ipython>=1.0->ipython-sql) (0.7.5)\n",
            "Requirement already satisfied: pexpect; sys_platform != \"win32\" in /usr/local/lib/python3.6/dist-packages (from ipython>=1.0->ipython-sql) (4.8.0)\n",
            "Requirement already satisfied: traitlets>=4.2 in /usr/local/lib/python3.6/dist-packages (from ipython>=1.0->ipython-sql) (4.3.3)\n",
            "Requirement already satisfied: ptyprocess>=0.5 in /usr/local/lib/python3.6/dist-packages (from pexpect; sys_platform != \"win32\"->ipython>=1.0->ipython-sql) (0.6.0)\n"
          ],
          "name": "stdout"
        }
      ]
    },
    {
      "cell_type": "code",
      "metadata": {
        "id": "8mfDQ_btvGJi"
      },
      "source": [
        "%load_ext sql"
      ],
      "execution_count": null,
      "outputs": []
    },
    {
      "cell_type": "markdown",
      "metadata": {
        "id": "s5EDop6wvGJ3"
      },
      "source": [
        "Ahora vamos a crear una nueva base de datos para esta actividad. Esta base de datos se llamará `hogwarts.db`."
      ]
    },
    {
      "cell_type": "code",
      "metadata": {
        "id": "2fDEZunKvGKH",
        "colab": {
          "base_uri": "https://localhost:8080/",
          "height": 35
        },
        "outputId": "236e5371-238c-40fa-d7bf-f242579cada3"
      },
      "source": [
        "%sql sqlite:///hogwarts.db"
      ],
      "execution_count": null,
      "outputs": [
        {
          "output_type": "execute_result",
          "data": {
            "application/vnd.google.colaboratory.intrinsic+json": {
              "type": "string"
            },
            "text/plain": [
              "'Connected: @hogwarts.db'"
            ]
          },
          "metadata": {
            "tags": []
          },
          "execution_count": 4
        }
      ]
    },
    {
      "cell_type": "markdown",
      "metadata": {
        "id": "9AmKfXM7vGKS"
      },
      "source": [
        "**Ojo**: cada vez que anteponemos `%sql` es porque esa línea corresponde a un comando a SQL que va a la base de datos en la que estamos trabajando (en este caso `hogwarts.db`). Si queremos tener todo un bloque con instrucciones SQL tenemos que usar `%%sql` (habrán ejemplos de esto a lo largo del _notebook_)."
      ]
    },
    {
      "cell_type": "markdown",
      "metadata": {
        "id": "2WZW47GavGKU"
      },
      "source": [
        "Tu primera prueba será crear una base de datos de acuerdo el esquema de arriba. La sintaxis para crear tablas en SQL es la siguiente (si están trabajando desde el cliente, después de cada sentencia SQL debes poner un punto y coma `;`):\n",
        "\n",
        "```SQL\n",
        "CREATE TABLE <Nombre Tabla> (<atributo_1> tipo, ... , <attributo_N> tipo)\n",
        "```\n",
        "\n",
        "Por ejemplo, para crear la tabla de Magos:"
      ]
    },
    {
      "cell_type": "code",
      "metadata": {
        "id": "MuQc88wQvGKW",
        "colab": {
          "base_uri": "https://localhost:8080/"
        },
        "outputId": "d182d3e6-f1fa-40e0-fb7e-9666ed1234d5"
      },
      "source": [
        "%%sql \n",
        "DROP TABLE IF EXISTS Magos;\n",
        "CREATE TABLE Magos(mid INT, mnombre VARCHAR(100), mhechizos INT, medad INT);"
      ],
      "execution_count": null,
      "outputs": [
        {
          "output_type": "stream",
          "text": [
            " * sqlite:///hogwarts.db\n",
            "Done.\n",
            "Done.\n"
          ],
          "name": "stdout"
        },
        {
          "output_type": "execute_result",
          "data": {
            "text/plain": [
              "[]"
            ]
          },
          "metadata": {
            "tags": []
          },
          "execution_count": 5
        }
      ]
    },
    {
      "cell_type": "markdown",
      "metadata": {
        "id": "0ch6Z4qVvGKj"
      },
      "source": [
        "En la celda anterior estamos eliminando la tabla si es que existe para luego crear una tabla según lo requerido por el esquema. Pero cuidado! Olvidamos agregar la llave primaria, por lo que vamos a **eliminar** la tabla y crearla de nuevo. Además, vamos a agregar un valor por defecto al atributo `mhechizos`, que en este caso será 0."
      ]
    },
    {
      "cell_type": "code",
      "metadata": {
        "id": "vmlOoOyFvGKm",
        "colab": {
          "base_uri": "https://localhost:8080/"
        },
        "outputId": "a4930953-70af-44bf-da2e-fd2dfb39877a"
      },
      "source": [
        "%%sql \n",
        "DROP TABLE Magos;\n",
        "CREATE TABLE Magos(mid INT PRIMARY KEY, mnombre VARCHAR(100), mhechizos FLOAT DEFAULT 0, medad INT);"
      ],
      "execution_count": null,
      "outputs": [
        {
          "output_type": "stream",
          "text": [
            " * sqlite:///hogwarts.db\n",
            "Done.\n",
            "Done.\n"
          ],
          "name": "stdout"
        },
        {
          "output_type": "execute_result",
          "data": {
            "text/plain": [
              "[]"
            ]
          },
          "metadata": {
            "tags": []
          },
          "execution_count": 6
        }
      ]
    },
    {
      "cell_type": "markdown",
      "metadata": {
        "id": "MX8cKrAQvGKu"
      },
      "source": [
        "Otra opción es agregar la llave primaria al final de la instrucción `CREATE TABLE`. Para ver un ejemplo, vamos a crear la tabla de cursos."
      ]
    },
    {
      "cell_type": "code",
      "metadata": {
        "id": "-8ajiShtvGKy",
        "colab": {
          "base_uri": "https://localhost:8080/"
        },
        "outputId": "44005b33-d0c1-49e6-c35e-cbedbd6cac9d"
      },
      "source": [
        "%%sql \n",
        "DROP TABLE IF EXISTS Cursos;\n",
        "CREATE TABLE Cursos(mid INT, aid INT, fecha DATE, PRIMARY KEY(mid, aid));"
      ],
      "execution_count": null,
      "outputs": [
        {
          "output_type": "stream",
          "text": [
            " * sqlite:///hogwarts.db\n",
            "Done.\n",
            "Done.\n"
          ],
          "name": "stdout"
        },
        {
          "output_type": "execute_result",
          "data": {
            "text/plain": [
              "[]"
            ]
          },
          "metadata": {
            "tags": []
          },
          "execution_count": 7
        }
      ]
    },
    {
      "cell_type": "markdown",
      "metadata": {
        "id": "h6LA-qXDvGLB"
      },
      "source": [
        "En el caso anterior, tenemos una llave primaria compuesta. En general, para crear una tabla con llave primaria, lo señalamos al final, de la forma:\n",
        "\n",
        "```SQL\n",
        "CREATE TABLE <Nombre Tabla> (\n",
        "    <atributo_1> tipo, ..., \n",
        "    <attributo_N> tipo, \n",
        "    PRIMARY KEY(<atributos separados por coma (,)>))\n",
        "```"
      ]
    },
    {
      "cell_type": "markdown",
      "metadata": {
        "id": "ftBGM-7XvGLC"
      },
      "source": [
        "**1.** Ahora es tu turno. En la celda a continuación debes crear la tabla de Asignaturas. No olvides agregar su llave primaria."
      ]
    },
    {
      "cell_type": "code",
      "metadata": {
        "id": "9_mV9av-vGLE",
        "colab": {
          "base_uri": "https://localhost:8080/"
        },
        "outputId": "eaa66295-a002-4da4-fe65-db45a32b97d8"
      },
      "source": [
        "%%sql \n",
        "DROP TABLE IF EXISTS Asignatura;\n",
        "CREATE TABLE Asignatura(mid INT, aid INT, fecha DATE, PRIMARY KEY(mid, aid));"
      ],
      "execution_count": null,
      "outputs": [
        {
          "output_type": "stream",
          "text": [
            " * sqlite:///hogwarts.db\n",
            "Done.\n",
            "Done.\n"
          ],
          "name": "stdout"
        },
        {
          "output_type": "execute_result",
          "data": {
            "text/plain": [
              "[]"
            ]
          },
          "metadata": {
            "tags": []
          },
          "execution_count": 8
        }
      ]
    },
    {
      "cell_type": "markdown",
      "metadata": {
        "id": "-J7ExRYgvGLY"
      },
      "source": [
        "### Tipos de datos\n",
        "\n",
        "Al crear las tablas disponemos varios tipos de datos. Por ahora destacamos los siguientes:\n",
        "\n",
        "- Caracteres (_Strings_):\n",
        "  - `CHAR(20)`: _Strings_ de largo fijo.\n",
        "  - `VARCHAR(20)`: _Strings_ de largo variable.\n",
        "  \n",
        "- Números:\n",
        "  - `INT`\n",
        "  - `FLOAT`\n",
        "  - `SMALLINT`\n",
        "  \n",
        "- Tiempos y fechas:\n",
        "  - `DATE`: fecha.\n",
        "  - `TIME`: hora.\n",
        "  - `TIMESTAMP`: fecha y hora."
      ]
    },
    {
      "cell_type": "markdown",
      "metadata": {
        "id": "XoNx7smhvGLZ"
      },
      "source": [
        "### Insertar, eliminar y modificar elementos en tablas\n",
        "\n",
        "Si ejecutamos la consulta `SELECT * FROM Magos` notaremos que el resultado es vacío. Esto es evidente, ya que esta consulta me retorna todo lo que tengo en la tabla `Magos` y actualmente no hemos insertado nada."
      ]
    },
    {
      "cell_type": "code",
      "metadata": {
        "id": "ZPaJObJfvGLd",
        "colab": {
          "base_uri": "https://localhost:8080/",
          "height": 74
        },
        "outputId": "b030eb2b-4d94-471b-f2f5-0ef0771b2ea2"
      },
      "source": [
        "%sql SELECT * FROM Magos;"
      ],
      "execution_count": null,
      "outputs": [
        {
          "output_type": "stream",
          "text": [
            " * sqlite:///hogwarts.db\n",
            "Done.\n"
          ],
          "name": "stdout"
        },
        {
          "output_type": "execute_result",
          "data": {
            "text/html": [
              "<table>\n",
              "    <tr>\n",
              "        <th>mid</th>\n",
              "        <th>mnombre</th>\n",
              "        <th>mhechizos</th>\n",
              "        <th>medad</th>\n",
              "    </tr>\n",
              "</table>"
            ],
            "text/plain": [
              "[]"
            ]
          },
          "metadata": {
            "tags": []
          },
          "execution_count": 8
        }
      ]
    },
    {
      "cell_type": "markdown",
      "metadata": {
        "id": "beoEuh5gvGLk"
      },
      "source": [
        "Para insertar valores, la forma básica es la siguiente:\n",
        "\n",
        "```SQL\n",
        "INSERT INTO <Nombre Tabla> \n",
        "VALUES (<valor atributo 1> , ..., <valor atributo N>)\n",
        "```\n",
        "\n",
        "Por ejemplo si ejecutamos la consulta:\n",
        "\n",
        "```SQL\n",
        "INSERT INTO Magos \n",
        "VALUES(1, 'Harry', 0, 15)\n",
        "```\n",
        "\n",
        "estamos insertando un Mago con `mid` 1, `mnombre` Harry, `mhechizos` 5 y `medad` 15."
      ]
    },
    {
      "cell_type": "code",
      "metadata": {
        "id": "tQNJuZ7vvGLl",
        "colab": {
          "base_uri": "https://localhost:8080/"
        },
        "outputId": "5b1bc8f6-dd28-4db9-82ba-9728423254f3"
      },
      "source": [
        "%sql INSERT INTO Magos VALUES(null, 'Harry', 5, 15)"
      ],
      "execution_count": null,
      "outputs": [
        {
          "output_type": "stream",
          "text": [
            " * sqlite:///hogwarts.db\n",
            "1 rows affected.\n"
          ],
          "name": "stdout"
        },
        {
          "output_type": "execute_result",
          "data": {
            "text/plain": [
              "[]"
            ]
          },
          "metadata": {
            "tags": []
          },
          "execution_count": 24
        }
      ]
    },
    {
      "cell_type": "markdown",
      "metadata": {
        "id": "eqAXUEcIvGLr"
      },
      "source": [
        "Recordemos que habíamos señalado que la llave primaria de la tabla `Magos` era el `mid`. Veamos que pasa si intentamos insertar un mago con el mismo `mid`."
      ]
    },
    {
      "cell_type": "code",
      "metadata": {
        "id": "1iOwFilqvGLr",
        "colab": {
          "base_uri": "https://localhost:8080/"
        },
        "outputId": "1f8ee446-8b2d-4ccf-f913-70d846ce46bc"
      },
      "source": [
        "%sql INSERT INTO Magos VALUES(null, 'Voldemort', 100, 35)"
      ],
      "execution_count": null,
      "outputs": [
        {
          "output_type": "stream",
          "text": [
            " * sqlite:///hogwarts.db\n",
            "1 rows affected.\n"
          ],
          "name": "stdout"
        },
        {
          "output_type": "execute_result",
          "data": {
            "text/plain": [
              "[]"
            ]
          },
          "metadata": {
            "tags": []
          },
          "execution_count": 25
        }
      ]
    },
    {
      "cell_type": "markdown",
      "metadata": {
        "id": "kNIq7a83vGLy"
      },
      "source": [
        "La consulta anterior debería haber arrojado un error. Así que vamos a cambiar el `mid`. Sin embargo, vamos a omitir algunos atributos."
      ]
    },
    {
      "cell_type": "code",
      "metadata": {
        "id": "1e_zf21IvGL0",
        "colab": {
          "base_uri": "https://localhost:8080/"
        },
        "outputId": "5e185ba2-3cbd-456b-b5aa-c4361379de10"
      },
      "source": [
        "%sql INSERT INTO Magos(mid, mnombre) VALUES(13, 'Voldemort')"
      ],
      "execution_count": null,
      "outputs": [
        {
          "output_type": "stream",
          "text": [
            " * sqlite:///hogwarts.db\n",
            "1 rows affected.\n"
          ],
          "name": "stdout"
        },
        {
          "output_type": "execute_result",
          "data": {
            "text/plain": [
              "[]"
            ]
          },
          "metadata": {
            "tags": []
          },
          "execution_count": 26
        }
      ]
    },
    {
      "cell_type": "code",
      "metadata": {
        "id": "PjQs_sL6vGMF",
        "colab": {
          "base_uri": "https://localhost:8080/",
          "height": 221
        },
        "outputId": "54a199cc-41f0-4985-dbb9-95167456e1fe"
      },
      "source": [
        "%sql SELECT * FROM Magos"
      ],
      "execution_count": null,
      "outputs": [
        {
          "output_type": "stream",
          "text": [
            " * sqlite:///hogwarts.db\n",
            "Done.\n"
          ],
          "name": "stdout"
        },
        {
          "output_type": "execute_result",
          "data": {
            "text/html": [
              "<table>\n",
              "    <tr>\n",
              "        <th>mid</th>\n",
              "        <th>mnombre</th>\n",
              "        <th>mhechizos</th>\n",
              "        <th>medad</th>\n",
              "    </tr>\n",
              "    <tr>\n",
              "        <td>None</td>\n",
              "        <td>Harry</td>\n",
              "        <td>5.0</td>\n",
              "        <td>15</td>\n",
              "    </tr>\n",
              "    <tr>\n",
              "        <td>None</td>\n",
              "        <td>Harry</td>\n",
              "        <td>5.0</td>\n",
              "        <td>15</td>\n",
              "    </tr>\n",
              "    <tr>\n",
              "        <td>1</td>\n",
              "        <td>Harry</td>\n",
              "        <td>5.0</td>\n",
              "        <td>15</td>\n",
              "    </tr>\n",
              "    <tr>\n",
              "        <td>None</td>\n",
              "        <td>Harry</td>\n",
              "        <td>5.0</td>\n",
              "        <td>15</td>\n",
              "    </tr>\n",
              "    <tr>\n",
              "        <td>None</td>\n",
              "        <td>Harry</td>\n",
              "        <td>5.0</td>\n",
              "        <td>15</td>\n",
              "    </tr>\n",
              "    <tr>\n",
              "        <td>None</td>\n",
              "        <td>Voldemort</td>\n",
              "        <td>100.0</td>\n",
              "        <td>35</td>\n",
              "    </tr>\n",
              "    <tr>\n",
              "        <td>13</td>\n",
              "        <td>Voldemort</td>\n",
              "        <td>0.0</td>\n",
              "        <td>None</td>\n",
              "    </tr>\n",
              "</table>"
            ],
            "text/plain": [
              "[(None, 'Harry', 5.0, 15),\n",
              " (None, 'Harry', 5.0, 15),\n",
              " (1, 'Harry', 5.0, 15),\n",
              " (None, 'Harry', 5.0, 15),\n",
              " (None, 'Harry', 5.0, 15),\n",
              " (None, 'Voldemort', 100.0, 35),\n",
              " (13, 'Voldemort', 0.0, None)]"
            ]
          },
          "metadata": {
            "tags": []
          },
          "execution_count": 27
        }
      ]
    },
    {
      "cell_type": "markdown",
      "metadata": {
        "id": "OUCvuhJFvGMN"
      },
      "source": [
        "Si te das cuenta, ahora tenemos dos tuplas en la tabla de magos. Como podrías haber esperado, dado que omitimos el valor para ciertos atributos en la segunda inserción, el `mhechizos` tomó el valor _default_. Pero ojo! el atributo `medad` tomó un valor **nulo**. Más adelante en el curso vamos a ahondar en esta temática y ver por qué los valores nulos pueden ser un problema. Ahora vamos a agregar una nueva tupla para hacer algunas consultas sencillas."
      ]
    },
    {
      "cell_type": "code",
      "metadata": {
        "id": "6djh06OCvGMO",
        "colab": {
          "base_uri": "https://localhost:8080/"
        },
        "outputId": "5a271fc8-080f-4b8d-a69a-6460461c99db"
      },
      "source": [
        "%sql INSERT INTO Magos VALUES(24, 'Ron', 8, 15);"
      ],
      "execution_count": null,
      "outputs": [
        {
          "output_type": "stream",
          "text": [
            " * sqlite:///hogwarts.db\n",
            "1 rows affected.\n"
          ],
          "name": "stdout"
        },
        {
          "output_type": "execute_result",
          "data": {
            "text/plain": [
              "[]"
            ]
          },
          "metadata": {
            "tags": []
          },
          "execution_count": 31
        }
      ]
    },
    {
      "cell_type": "code",
      "metadata": {
        "id": "CF17f_ZhvGMT",
        "colab": {
          "base_uri": "https://localhost:8080/",
          "height": 242
        },
        "outputId": "ccb66f8a-657e-4aa9-c88b-9034a554a585"
      },
      "source": [
        "%sql SELECT * FROM Magos;"
      ],
      "execution_count": null,
      "outputs": [
        {
          "output_type": "stream",
          "text": [
            " * sqlite:///hogwarts.db\n",
            "Done.\n"
          ],
          "name": "stdout"
        },
        {
          "output_type": "execute_result",
          "data": {
            "text/html": [
              "<table>\n",
              "    <tr>\n",
              "        <th>mid</th>\n",
              "        <th>mnombre</th>\n",
              "        <th>mhechizos</th>\n",
              "        <th>medad</th>\n",
              "    </tr>\n",
              "    <tr>\n",
              "        <td>None</td>\n",
              "        <td>Harry</td>\n",
              "        <td>5.0</td>\n",
              "        <td>15</td>\n",
              "    </tr>\n",
              "    <tr>\n",
              "        <td>None</td>\n",
              "        <td>Harry</td>\n",
              "        <td>5.0</td>\n",
              "        <td>15</td>\n",
              "    </tr>\n",
              "    <tr>\n",
              "        <td>1</td>\n",
              "        <td>Harry</td>\n",
              "        <td>5.0</td>\n",
              "        <td>15</td>\n",
              "    </tr>\n",
              "    <tr>\n",
              "        <td>None</td>\n",
              "        <td>Harry</td>\n",
              "        <td>5.0</td>\n",
              "        <td>15</td>\n",
              "    </tr>\n",
              "    <tr>\n",
              "        <td>None</td>\n",
              "        <td>Harry</td>\n",
              "        <td>5.0</td>\n",
              "        <td>15</td>\n",
              "    </tr>\n",
              "    <tr>\n",
              "        <td>None</td>\n",
              "        <td>Voldemort</td>\n",
              "        <td>100.0</td>\n",
              "        <td>35</td>\n",
              "    </tr>\n",
              "    <tr>\n",
              "        <td>13</td>\n",
              "        <td>Voldemort</td>\n",
              "        <td>0.0</td>\n",
              "        <td>None</td>\n",
              "    </tr>\n",
              "    <tr>\n",
              "        <td>23</td>\n",
              "        <td>Ron</td>\n",
              "        <td>8.0</td>\n",
              "        <td>15</td>\n",
              "    </tr>\n",
              "</table>"
            ],
            "text/plain": [
              "[(None, 'Harry', 5.0, 15),\n",
              " (None, 'Harry', 5.0, 15),\n",
              " (1, 'Harry', 5.0, 15),\n",
              " (None, 'Harry', 5.0, 15),\n",
              " (None, 'Harry', 5.0, 15),\n",
              " (None, 'Voldemort', 100.0, 35),\n",
              " (13, 'Voldemort', 0.0, None),\n",
              " (23, 'Ron', 8.0, 15)]"
            ]
          },
          "metadata": {
            "tags": []
          },
          "execution_count": 29
        }
      ]
    },
    {
      "cell_type": "code",
      "metadata": {
        "id": "5dALbmi8vGMX",
        "colab": {
          "base_uri": "https://localhost:8080/",
          "height": 116
        },
        "outputId": "1ea73fbe-5231-4a8d-fd6c-06000dc0ffc8"
      },
      "source": [
        "%sql SELECT * FROM Magos WHERE mnombre='Ron';"
      ],
      "execution_count": null,
      "outputs": [
        {
          "output_type": "stream",
          "text": [
            " * sqlite:///hogwarts.db\n",
            "Done.\n"
          ],
          "name": "stdout"
        },
        {
          "output_type": "execute_result",
          "data": {
            "text/html": [
              "<table>\n",
              "    <tr>\n",
              "        <th>mid</th>\n",
              "        <th>mnombre</th>\n",
              "        <th>mhechizos</th>\n",
              "        <th>medad</th>\n",
              "    </tr>\n",
              "    <tr>\n",
              "        <td>23</td>\n",
              "        <td>Ron</td>\n",
              "        <td>8.0</td>\n",
              "        <td>15</td>\n",
              "    </tr>\n",
              "    <tr>\n",
              "        <td>24</td>\n",
              "        <td>Ron</td>\n",
              "        <td>8.0</td>\n",
              "        <td>15</td>\n",
              "    </tr>\n",
              "</table>"
            ],
            "text/plain": [
              "[(23, 'Ron', 8.0, 15), (24, 'Ron', 8.0, 15)]"
            ]
          },
          "metadata": {
            "tags": []
          },
          "execution_count": 32
        }
      ]
    },
    {
      "cell_type": "markdown",
      "metadata": {
        "id": "LhpPf4tZvGMb"
      },
      "source": [
        "En la consulta anterior estamos filtrando por Magos donde su nombre sea `'Ron'`. Si queremos que el nombre **contenga** `'Ron'` usamos la instrucción `LIKE`:"
      ]
    },
    {
      "cell_type": "code",
      "metadata": {
        "id": "Obo85V-PvGMb",
        "colab": {
          "base_uri": "https://localhost:8080/",
          "height": 116
        },
        "outputId": "6e126fc0-be0e-4b0d-ba02-98451382f35d"
      },
      "source": [
        "%sql SELECT * FROM Magos WHERE mnombre LIKE '%Ron%'"
      ],
      "execution_count": null,
      "outputs": [
        {
          "output_type": "stream",
          "text": [
            " * sqlite:///hogwarts.db\n",
            "Done.\n"
          ],
          "name": "stdout"
        },
        {
          "output_type": "execute_result",
          "data": {
            "text/html": [
              "<table>\n",
              "    <tr>\n",
              "        <th>mid</th>\n",
              "        <th>mnombre</th>\n",
              "        <th>mhechizos</th>\n",
              "        <th>medad</th>\n",
              "    </tr>\n",
              "    <tr>\n",
              "        <td>23</td>\n",
              "        <td>Ron</td>\n",
              "        <td>8.0</td>\n",
              "        <td>15</td>\n",
              "    </tr>\n",
              "    <tr>\n",
              "        <td>24</td>\n",
              "        <td>Ron</td>\n",
              "        <td>8.0</td>\n",
              "        <td>15</td>\n",
              "    </tr>\n",
              "</table>"
            ],
            "text/plain": [
              "[(23, 'Ron', 8.0, 15), (24, 'Ron', 8.0, 15)]"
            ]
          },
          "metadata": {
            "tags": []
          },
          "execution_count": 33
        }
      ]
    },
    {
      "cell_type": "markdown",
      "metadata": {
        "id": "eBOVuVrrvGMl"
      },
      "source": [
        "Pueden notar que hemos añadido un `%` al _string_. Esto es porque antes y después de `Ron` queremos permitir cualquier secuencia de caracteres. Para el `LIKE` tenemos dos instrucciones posibles:\n",
        "\n",
        "- `%` que significa cualquier secuencia de caracteres.\n",
        "- `_` que significa un caracter, pero **solamente** uno."
      ]
    },
    {
      "cell_type": "markdown",
      "metadata": {
        "id": "_AKMQ_yIvGMl"
      },
      "source": [
        "Como no estamos seguros de mantener a `Ron` en la tabla `Magos` lo vamos a eliminar. Para eliminar tuplas lo hacemos con la instrucción `DELETE`. Veamos que pasa al ejecutar la siguiente consulta:"
      ]
    },
    {
      "cell_type": "code",
      "metadata": {
        "id": "KuASXgE1vGMm",
        "colab": {
          "base_uri": "https://localhost:8080/"
        },
        "outputId": "6af92bce-938a-4ffc-996c-8d8888635ffc"
      },
      "source": [
        "%sql DELETE FROM Magos WHERE mid=None"
      ],
      "execution_count": null,
      "outputs": [
        {
          "output_type": "stream",
          "text": [
            " * sqlite:///hogwarts.db\n",
            "(sqlite3.OperationalError) no such column: None\n",
            "[SQL: DELETE FROM Magos WHERE mid=None]\n",
            "(Background on this error at: http://sqlalche.me/e/13/e3q8)\n"
          ],
          "name": "stdout"
        }
      ]
    },
    {
      "cell_type": "code",
      "metadata": {
        "id": "-oURjsj1vGMr",
        "colab": {
          "base_uri": "https://localhost:8080/",
          "height": 74
        },
        "outputId": "ce61fa14-7b35-4f30-8b97-192378415ac7"
      },
      "source": [
        "%sql SELECT * FROM Magos"
      ],
      "execution_count": null,
      "outputs": [
        {
          "output_type": "stream",
          "text": [
            " * sqlite:///hogwarts.db\n",
            "Done.\n"
          ],
          "name": "stdout"
        },
        {
          "output_type": "execute_result",
          "data": {
            "text/html": [
              "<table>\n",
              "    <tr>\n",
              "        <th>mid</th>\n",
              "        <th>mnombre</th>\n",
              "        <th>mhechizos</th>\n",
              "        <th>medad</th>\n",
              "    </tr>\n",
              "</table>"
            ],
            "text/plain": [
              "[]"
            ]
          },
          "metadata": {
            "tags": []
          },
          "execution_count": 9
        }
      ]
    },
    {
      "cell_type": "markdown",
      "metadata": {
        "id": "a_sjoMQwvGMw"
      },
      "source": [
        "Lo que hicimos fue borrar de la tabla `Magos` todas las tuplas que satisfacen la condición en el `WHERE` de la consulta. Para actualizar una tupla usamos la instrucción `UPDATE`, como veremos a continuación:"
      ]
    },
    {
      "cell_type": "code",
      "metadata": {
        "id": "Jm-ZEtlhvGMw",
        "colab": {
          "base_uri": "https://localhost:8080/"
        },
        "outputId": "212dcf61-bbcc-450f-be04-36b8890f8fc7"
      },
      "source": [
        "%sql UPDATE Magos SET mnombre='The one who must no be named', mhechizos = 2000 WHERE mid=13"
      ],
      "execution_count": null,
      "outputs": [
        {
          "output_type": "stream",
          "text": [
            " * sqlite:///hogwarts.db\n",
            "1 rows affected.\n"
          ],
          "name": "stdout"
        },
        {
          "output_type": "execute_result",
          "data": {
            "text/plain": [
              "[]"
            ]
          },
          "metadata": {
            "tags": []
          },
          "execution_count": 52
        }
      ]
    },
    {
      "cell_type": "code",
      "metadata": {
        "id": "LsbOU0-1vGM0",
        "colab": {
          "base_uri": "https://localhost:8080/",
          "height": 200
        },
        "outputId": "cc322a23-44f5-434d-8518-0247ab22719d"
      },
      "source": [
        "%sql SELECT * FROM Magos"
      ],
      "execution_count": null,
      "outputs": [
        {
          "output_type": "stream",
          "text": [
            " * sqlite:///hogwarts.db\n",
            "Done.\n"
          ],
          "name": "stdout"
        },
        {
          "output_type": "execute_result",
          "data": {
            "text/html": [
              "<table>\n",
              "    <tr>\n",
              "        <th>mid</th>\n",
              "        <th>mnombre</th>\n",
              "        <th>mhechizos</th>\n",
              "        <th>medad</th>\n",
              "    </tr>\n",
              "    <tr>\n",
              "        <td>None</td>\n",
              "        <td>Harry</td>\n",
              "        <td>5.0</td>\n",
              "        <td>15</td>\n",
              "    </tr>\n",
              "    <tr>\n",
              "        <td>None</td>\n",
              "        <td>Harry</td>\n",
              "        <td>5.0</td>\n",
              "        <td>15</td>\n",
              "    </tr>\n",
              "    <tr>\n",
              "        <td>None</td>\n",
              "        <td>Harry</td>\n",
              "        <td>5.0</td>\n",
              "        <td>15</td>\n",
              "    </tr>\n",
              "    <tr>\n",
              "        <td>None</td>\n",
              "        <td>Harry</td>\n",
              "        <td>5.0</td>\n",
              "        <td>15</td>\n",
              "    </tr>\n",
              "    <tr>\n",
              "        <td>None</td>\n",
              "        <td>Voldemort</td>\n",
              "        <td>100.0</td>\n",
              "        <td>35</td>\n",
              "    </tr>\n",
              "    <tr>\n",
              "        <td>13</td>\n",
              "        <td>The one who must no be named</td>\n",
              "        <td>2000.0</td>\n",
              "        <td>None</td>\n",
              "    </tr>\n",
              "</table>"
            ],
            "text/plain": [
              "[(None, 'Harry', 5.0, 15),\n",
              " (None, 'Harry', 5.0, 15),\n",
              " (None, 'Harry', 5.0, 15),\n",
              " (None, 'Harry', 5.0, 15),\n",
              " (None, 'Voldemort', 100.0, 35),\n",
              " (13, 'The one who must no be named', 2000.0, None)]"
            ]
          },
          "metadata": {
            "tags": []
          },
          "execution_count": 53
        }
      ]
    },
    {
      "cell_type": "markdown",
      "metadata": {
        "id": "rXMqDkzSvGM2"
      },
      "source": [
        "### Modificando tablas\n",
        "\n",
        "En SQL es posible modificar tablas. Por ejemplo si quisieramos eliminar el atributo `mhechizo` podríamos ejecutar la consulta:\n",
        "\n",
        "```SQL\n",
        "ALTER TABLE Magos DROP COLUMN mhechizo\n",
        "```\n",
        "\n",
        "O agregar una columna, como por ejemplo:\n",
        "\n",
        "```SQL\n",
        "ALTER TABLE Magos ADD COLUMN rut VARCHAR(20)\n",
        "```"
      ]
    },
    {
      "cell_type": "markdown",
      "metadata": {
        "id": "6qOFqGA4vGM3"
      },
      "source": [
        "### Consultas básicas en SQL"
      ]
    },
    {
      "cell_type": "markdown",
      "metadata": {
        "id": "UGORamqUvGM3"
      },
      "source": [
        "Para comenzar a hacer consultas primero debemos llenar nuestras tablas. Asegurate que las instancias de las tablas sean las siguientes:"
      ]
    },
    {
      "cell_type": "markdown",
      "metadata": {
        "id": "eFX4O8gtvGM4"
      },
      "source": [
        "#### Magos\n",
        "\n",
        "| mid | mnombre     | mhechizos | medad |\n",
        "|-----|-------------|---------- |-------|\n",
        "| 23  | Dumbledore  | 100       | 99    |\n",
        "| 29  | Ron         | 1         | 15    |\n",
        "| 31  | Harry       | 8         | 15    |\n",
        "| 32  | Carlos      | 40        | 40    |\n",
        "| 58  | Hermione    | 15        | 15    |\n",
        "| 64  | Minerva     | 50        | 65    |\n",
        "| 71  | Pedro       | 10        | 16    |\n",
        "| 74  | Severus     | 55        | 55    |\n",
        "| 85  | Remus       | 60        | 45    |\n",
        "| 95  | Felipe      | 5         | 63    |"
      ]
    },
    {
      "cell_type": "markdown",
      "metadata": {
        "id": "4b_JgHIpvGM4"
      },
      "source": [
        "#### Asignaturas\n",
        "\n",
        "| aid | anombre             | acreditos |\n",
        "|-----|---------------------|-----------|\n",
        "| 101 | Hechizos            | 3         |\n",
        "| 102 | Artes oscuras       | 4         |\n",
        "| 103 | Plantas             | 2         |\n",
        "| 104 | Encantamientos      | 4         |"
      ]
    },
    {
      "cell_type": "markdown",
      "metadata": {
        "id": "EECWobZIvGM5"
      },
      "source": [
        "#### Cursos\n",
        "\n",
        "| mid | aid | fecha    |\n",
        "|-----|-----|----------|\n",
        "| 23  | 101 | 10/10/16 |\n",
        "| 23  | 102 | 10/10/16 |\n",
        "| 23  | 103 | 8/10/16  |\n",
        "| 23  | 104 | 7/10/17  |\n",
        "| 31  | 102 | 10/11/17 |\n",
        "| 31  | 103 | 6/11/18  |\n",
        "| 31  | 104 | 12/11/18 |\n",
        "| 64  | 101 | 5/9/18   |\n",
        "| 64  | 102 | 8/9/18   |\n",
        "| 74  | 103 | 8/9/18   |"
      ]
    },
    {
      "cell_type": "markdown",
      "metadata": {
        "id": "L6MdwzYKvGM7"
      },
      "source": [
        "**Hint**: Para insertar un tipo fecha en SQLITE tienes que ingresarlo entre comillas simples en el formato `'YYYY-MM-DD'`, por ejemplo:"
      ]
    },
    {
      "cell_type": "code",
      "metadata": {
        "id": "jBYwd7q_vGM8",
        "colab": {
          "base_uri": "https://localhost:8080/"
        },
        "outputId": "fafccaf1-5a84-40ab-e569-1dd9f77da6de"
      },
      "source": [
        "%sql INSERT INTO Cursos VALUES(1, 101, '2018-10-10')"
      ],
      "execution_count": null,
      "outputs": [
        {
          "output_type": "stream",
          "text": [
            " * sqlite:///hogwarts.db\n",
            "1 rows affected.\n"
          ],
          "name": "stdout"
        },
        {
          "output_type": "execute_result",
          "data": {
            "text/plain": [
              "[]"
            ]
          },
          "metadata": {
            "tags": []
          },
          "execution_count": 17
        }
      ]
    },
    {
      "cell_type": "code",
      "metadata": {
        "id": "fyXOmdjQvGNE",
        "colab": {
          "base_uri": "https://localhost:8080/"
        },
        "outputId": "563ecebe-b718-43a0-80ba-f4b53a3119fd"
      },
      "source": [
        "%%sql \n",
        "INSERT INTO Magos VALUES(10, 'Dumbledore', 100, 99);\n",
        "INSERT INTO Magos VALUES(29, 'Ron'       , 1  , 15);\n",
        "INSERT INTO Magos VALUES(31, 'Harry'     , 8  , 15);\n",
        "INSERT INTO Magos VALUES(32, 'Carlos'    , 40 , 40);\n",
        "INSERT INTO Magos VALUES(58, 'Hermione'  , 15 , 15);\n",
        "INSERT INTO Magos VALUES(64, 'Minerva'   , 50 , 65);\n",
        "INSERT INTO Magos VALUES(71, 'Pedro'     , 10 , 16);\n",
        "INSERT INTO Magos VALUES(74, 'Severus'   , 55 , 55);\n",
        "INSERT INTO Magos VALUES(85, 'Remus'     , 60 , 45);\n",
        "INSERT INTO Magos VALUES(95, 'Felipe'    , 5  , 63);"
      ],
      "execution_count": null,
      "outputs": [
        {
          "output_type": "stream",
          "text": [
            " * sqlite:///hogwarts.db\n",
            "1 rows affected.\n",
            "1 rows affected.\n",
            "1 rows affected.\n",
            "1 rows affected.\n",
            "1 rows affected.\n",
            "1 rows affected.\n",
            "1 rows affected.\n",
            "1 rows affected.\n",
            "1 rows affected.\n",
            "1 rows affected.\n"
          ],
          "name": "stdout"
        },
        {
          "output_type": "execute_result",
          "data": {
            "text/plain": [
              "[]"
            ]
          },
          "metadata": {
            "tags": []
          },
          "execution_count": 18
        }
      ]
    },
    {
      "cell_type": "code",
      "metadata": {
        "id": "7y3Wy5OtvGNJ",
        "colab": {
          "base_uri": "https://localhost:8080/"
        },
        "outputId": "9a793fae-3cba-4d82-c8b2-210a4b173a8f"
      },
      "source": [
        "%%sql\n",
        "INSERT INTO Asignatura VALUES(101, 'Hechizos', 3);\n",
        "INSERT INTO Asignatura VALUES(102, 'Artes oscuras', 4);\n",
        "INSERT INTO Asignatura VALUES(103, 'Plantas', 2);\n",
        "INSERT INTO Asignatura VALUES(104, 'Encantamientos', 4);"
      ],
      "execution_count": null,
      "outputs": [
        {
          "output_type": "stream",
          "text": [
            " * sqlite:///hogwarts.db\n",
            "1 rows affected.\n",
            "1 rows affected.\n",
            "1 rows affected.\n",
            "1 rows affected.\n"
          ],
          "name": "stdout"
        },
        {
          "output_type": "execute_result",
          "data": {
            "text/plain": [
              "[]"
            ]
          },
          "metadata": {
            "tags": []
          },
          "execution_count": 19
        }
      ]
    },
    {
      "cell_type": "code",
      "metadata": {
        "id": "XSyaqqPOvGNP",
        "colab": {
          "base_uri": "https://localhost:8080/"
        },
        "outputId": "1b889109-efde-4c48-94ef-bc0dfccd6c42"
      },
      "source": [
        "%%sql \n",
        "INSERT INTO Cursos VALUES (23 , 101, '10-10-16');\n",
        "INSERT INTO Cursos VALUES (23 , 102, '10-10-16');\n",
        "INSERT INTO Cursos VALUES (23 , 103, '8-10-16');\n",
        "INSERT INTO Cursos VALUES (23 , 104, '7-10-17');\n",
        "INSERT INTO Cursos VALUES (31 , 102, '10-11-17');\n",
        "INSERT INTO Cursos VALUES (31 , 103, '6-11-18');\n",
        "INSERT INTO Cursos VALUES (31 , 104, '12-11-18');\n",
        "INSERT INTO Cursos VALUES (64 , 101, '5-9-18');\n",
        "INSERT INTO Cursos VALUES (64 , 102, '8-9-18');\n",
        "INSERT INTO Cursos VALUES (74 , 103, '8-9-18');"
      ],
      "execution_count": null,
      "outputs": [
        {
          "output_type": "stream",
          "text": [
            " * sqlite:///hogwarts.db\n",
            "1 rows affected.\n",
            "1 rows affected.\n",
            "1 rows affected.\n",
            "1 rows affected.\n",
            "1 rows affected.\n",
            "1 rows affected.\n",
            "1 rows affected.\n",
            "1 rows affected.\n",
            "1 rows affected.\n",
            "1 rows affected.\n"
          ],
          "name": "stdout"
        },
        {
          "output_type": "execute_result",
          "data": {
            "text/plain": [
              "[]"
            ]
          },
          "metadata": {
            "tags": []
          },
          "execution_count": 20
        }
      ]
    },
    {
      "cell_type": "markdown",
      "metadata": {
        "id": "icP123pXvGNY"
      },
      "source": [
        "Las consultas más básicas son de la forma `SELECT - FROM - WHERE`. En general, la consulta de álgebra relacional:\n",
        "\n",
        "$$\n",
        "\\pi_{a_1, \\dots, a_n}(\\sigma_{\\text{condiciones}}(R_1 \\times R_m))\n",
        "$$\n",
        "\n",
        "se traduce en SQL como:\n",
        "\n",
        "```SQL\n",
        "SELECT a_1, ..., a_n\n",
        "FROM R_1, ..., R_m\n",
        "WHERE <condiciones>\n",
        "```\n",
        "\n",
        "**2.** Prueba la siguiente consulta:"
      ]
    },
    {
      "cell_type": "code",
      "metadata": {
        "id": "xrY9GC6KvGNZ",
        "colab": {
          "base_uri": "https://localhost:8080/",
          "height": 284
        },
        "outputId": "17acc6b4-a0f2-4fe3-8d6a-2c3bfaf748cc"
      },
      "source": [
        "%sql SELECT mid, mnombre, mhechizos, medad FROM Magos"
      ],
      "execution_count": 25,
      "outputs": [
        {
          "output_type": "stream",
          "text": [
            " * sqlite:///hogwarts.db\n",
            "Done.\n"
          ],
          "name": "stdout"
        },
        {
          "output_type": "execute_result",
          "data": {
            "text/html": [
              "<table>\n",
              "    <tr>\n",
              "        <th>mid</th>\n",
              "        <th>mnombre</th>\n",
              "        <th>mhechizos</th>\n",
              "        <th>medad</th>\n",
              "    </tr>\n",
              "    <tr>\n",
              "        <td>10</td>\n",
              "        <td>Dumbledore</td>\n",
              "        <td>100.0</td>\n",
              "        <td>99</td>\n",
              "    </tr>\n",
              "    <tr>\n",
              "        <td>29</td>\n",
              "        <td>Ron</td>\n",
              "        <td>1.0</td>\n",
              "        <td>15</td>\n",
              "    </tr>\n",
              "    <tr>\n",
              "        <td>31</td>\n",
              "        <td>Harry</td>\n",
              "        <td>8.0</td>\n",
              "        <td>15</td>\n",
              "    </tr>\n",
              "    <tr>\n",
              "        <td>32</td>\n",
              "        <td>Carlos</td>\n",
              "        <td>40.0</td>\n",
              "        <td>40</td>\n",
              "    </tr>\n",
              "    <tr>\n",
              "        <td>58</td>\n",
              "        <td>Hermione</td>\n",
              "        <td>15.0</td>\n",
              "        <td>15</td>\n",
              "    </tr>\n",
              "    <tr>\n",
              "        <td>64</td>\n",
              "        <td>Minerva</td>\n",
              "        <td>50.0</td>\n",
              "        <td>65</td>\n",
              "    </tr>\n",
              "    <tr>\n",
              "        <td>71</td>\n",
              "        <td>Pedro</td>\n",
              "        <td>10.0</td>\n",
              "        <td>16</td>\n",
              "    </tr>\n",
              "    <tr>\n",
              "        <td>74</td>\n",
              "        <td>Severus</td>\n",
              "        <td>55.0</td>\n",
              "        <td>55</td>\n",
              "    </tr>\n",
              "    <tr>\n",
              "        <td>85</td>\n",
              "        <td>Remus</td>\n",
              "        <td>60.0</td>\n",
              "        <td>45</td>\n",
              "    </tr>\n",
              "    <tr>\n",
              "        <td>95</td>\n",
              "        <td>Felipe</td>\n",
              "        <td>5.0</td>\n",
              "        <td>63</td>\n",
              "    </tr>\n",
              "</table>"
            ],
            "text/plain": [
              "[(10, 'Dumbledore', 100.0, 99),\n",
              " (29, 'Ron', 1.0, 15),\n",
              " (31, 'Harry', 8.0, 15),\n",
              " (32, 'Carlos', 40.0, 40),\n",
              " (58, 'Hermione', 15.0, 15),\n",
              " (64, 'Minerva', 50.0, 65),\n",
              " (71, 'Pedro', 10.0, 16),\n",
              " (74, 'Severus', 55.0, 55),\n",
              " (85, 'Remus', 60.0, 45),\n",
              " (95, 'Felipe', 5.0, 63)]"
            ]
          },
          "metadata": {
            "tags": []
          },
          "execution_count": 25
        }
      ]
    },
    {
      "cell_type": "markdown",
      "metadata": {
        "id": "G9mjkhu4vGNe"
      },
      "source": [
        "¿Qué es lo que debería hacer la consulta anterior? Recuerda que si lo que quieres es proyectar todos los atributos puedes usar `*`.\n",
        "\n",
        "**3.** Ahora realiza dos consultas, una para obtener todo desde la tabla `Cursos` y todo de la tabla `Asignaturas`. Revisa que agregaste todos los datos correctamente."
      ]
    },
    {
      "cell_type": "code",
      "metadata": {
        "id": "2C_i9XDHvGNh",
        "colab": {
          "base_uri": "https://localhost:8080/",
          "height": 305
        },
        "outputId": "4d98652c-5421-48e1-9169-09e40b8f08ce"
      },
      "source": [
        "# Curso\n",
        "%sql SELECT * from Cursos;"
      ],
      "execution_count": null,
      "outputs": [
        {
          "output_type": "stream",
          "text": [
            " * sqlite:///hogwarts.db\n",
            "Done.\n"
          ],
          "name": "stdout"
        },
        {
          "output_type": "execute_result",
          "data": {
            "text/html": [
              "<table>\n",
              "    <tr>\n",
              "        <th>mid</th>\n",
              "        <th>aid</th>\n",
              "        <th>fecha</th>\n",
              "    </tr>\n",
              "    <tr>\n",
              "        <td>1</td>\n",
              "        <td>101</td>\n",
              "        <td>2018-10-10</td>\n",
              "    </tr>\n",
              "    <tr>\n",
              "        <td>23</td>\n",
              "        <td>101</td>\n",
              "        <td>10-10-16</td>\n",
              "    </tr>\n",
              "    <tr>\n",
              "        <td>23</td>\n",
              "        <td>102</td>\n",
              "        <td>10-10-16</td>\n",
              "    </tr>\n",
              "    <tr>\n",
              "        <td>23</td>\n",
              "        <td>103</td>\n",
              "        <td>8-10-16</td>\n",
              "    </tr>\n",
              "    <tr>\n",
              "        <td>23</td>\n",
              "        <td>104</td>\n",
              "        <td>7-10-17</td>\n",
              "    </tr>\n",
              "    <tr>\n",
              "        <td>31</td>\n",
              "        <td>102</td>\n",
              "        <td>10-11-17</td>\n",
              "    </tr>\n",
              "    <tr>\n",
              "        <td>31</td>\n",
              "        <td>103</td>\n",
              "        <td>6-11-18</td>\n",
              "    </tr>\n",
              "    <tr>\n",
              "        <td>31</td>\n",
              "        <td>104</td>\n",
              "        <td>12-11-18</td>\n",
              "    </tr>\n",
              "    <tr>\n",
              "        <td>64</td>\n",
              "        <td>101</td>\n",
              "        <td>5-9-18</td>\n",
              "    </tr>\n",
              "    <tr>\n",
              "        <td>64</td>\n",
              "        <td>102</td>\n",
              "        <td>8-9-18</td>\n",
              "    </tr>\n",
              "    <tr>\n",
              "        <td>74</td>\n",
              "        <td>103</td>\n",
              "        <td>8-9-18</td>\n",
              "    </tr>\n",
              "</table>"
            ],
            "text/plain": [
              "[(1, 101, '2018-10-10'),\n",
              " (23, 101, '10-10-16'),\n",
              " (23, 102, '10-10-16'),\n",
              " (23, 103, '8-10-16'),\n",
              " (23, 104, '7-10-17'),\n",
              " (31, 102, '10-11-17'),\n",
              " (31, 103, '6-11-18'),\n",
              " (31, 104, '12-11-18'),\n",
              " (64, 101, '5-9-18'),\n",
              " (64, 102, '8-9-18'),\n",
              " (74, 103, '8-9-18')]"
            ]
          },
          "metadata": {
            "tags": []
          },
          "execution_count": 22
        }
      ]
    },
    {
      "cell_type": "code",
      "metadata": {
        "id": "wKlfEBBUvGNn",
        "colab": {
          "base_uri": "https://localhost:8080/",
          "height": 158
        },
        "outputId": "11f9033c-07a5-493d-967e-3b2d28ccb57a"
      },
      "source": [
        "# Asignatura\n",
        "%sql SELECT * FROM Asignatura"
      ],
      "execution_count": null,
      "outputs": [
        {
          "output_type": "stream",
          "text": [
            " * sqlite:///hogwarts.db\n",
            "Done.\n"
          ],
          "name": "stdout"
        },
        {
          "output_type": "execute_result",
          "data": {
            "text/html": [
              "<table>\n",
              "    <tr>\n",
              "        <th>mid</th>\n",
              "        <th>aid</th>\n",
              "        <th>fecha</th>\n",
              "    </tr>\n",
              "    <tr>\n",
              "        <td>101</td>\n",
              "        <td>Hechizos</td>\n",
              "        <td>3</td>\n",
              "    </tr>\n",
              "    <tr>\n",
              "        <td>102</td>\n",
              "        <td>Artes oscuras</td>\n",
              "        <td>4</td>\n",
              "    </tr>\n",
              "    <tr>\n",
              "        <td>103</td>\n",
              "        <td>Plantas</td>\n",
              "        <td>2</td>\n",
              "    </tr>\n",
              "    <tr>\n",
              "        <td>104</td>\n",
              "        <td>Encantamientos</td>\n",
              "        <td>4</td>\n",
              "    </tr>\n",
              "</table>"
            ],
            "text/plain": [
              "[(101, 'Hechizos', 3),\n",
              " (102, 'Artes oscuras', 4),\n",
              " (103, 'Plantas', 2),\n",
              " (104, 'Encantamientos', 4)]"
            ]
          },
          "metadata": {
            "tags": []
          },
          "execution_count": 23
        }
      ]
    },
    {
      "cell_type": "markdown",
      "metadata": {
        "id": "ZOQKFolHvGNv"
      },
      "source": [
        "Ahora ejecuta la consulta a continuación. ¿Qué crees que retorna?"
      ]
    },
    {
      "cell_type": "code",
      "metadata": {
        "id": "_HMmXdTOvGNw",
        "colab": {
          "base_uri": "https://localhost:8080/",
          "height": 74
        },
        "outputId": "4a31fb57-b44f-4bf7-ef5a-7c591a78f5fe"
      },
      "source": [
        "%sql SELECT * FROM Magos WHERE mnombre='Juan'"
      ],
      "execution_count": null,
      "outputs": [
        {
          "output_type": "stream",
          "text": [
            " * sqlite:///hogwarts.db\n",
            "Done.\n"
          ],
          "name": "stdout"
        },
        {
          "output_type": "execute_result",
          "data": {
            "text/html": [
              "<table>\n",
              "    <tr>\n",
              "        <th>mid</th>\n",
              "        <th>mnombre</th>\n",
              "        <th>mhechizos</th>\n",
              "        <th>medad</th>\n",
              "    </tr>\n",
              "</table>"
            ],
            "text/plain": [
              "[]"
            ]
          },
          "metadata": {
            "tags": []
          },
          "execution_count": 12
        }
      ]
    },
    {
      "cell_type": "markdown",
      "metadata": {
        "id": "A5EXKjjivGN6"
      },
      "source": [
        "Ahora es tu turno, realiza las siguientes consultas en SQL:\n",
        "\n",
        "**3.2.** Busca los nombres de los magos con más de 4 hechizos aprendidos (prueba seleccionando `*` y luego solo el atributo `mnombre`).\n",
        "\n",
        "**Ayuda**: Puedes usar los filtros `x = y`, `x < y`, `x <= y`, `<>` (distinto), etc. Para los números es obvio, para los strings es orden lexicográfico."
      ]
    },
    {
      "cell_type": "code",
      "metadata": {
        "id": "CRARA16UvGN7",
        "colab": {
          "base_uri": "https://localhost:8080/",
          "height": 74
        },
        "outputId": "01caf9c8-3817-4db8-ccf2-0fbba40220a2"
      },
      "source": [
        "%sql SELECT * FROM Magos WHERE mhechizos > 4"
      ],
      "execution_count": null,
      "outputs": [
        {
          "output_type": "stream",
          "text": [
            " * sqlite:///hogwarts.db\n",
            "Done.\n"
          ],
          "name": "stdout"
        },
        {
          "output_type": "execute_result",
          "data": {
            "text/html": [
              "<table>\n",
              "    <tr>\n",
              "        <th>mid</th>\n",
              "        <th>mnombre</th>\n",
              "        <th>mhechizos</th>\n",
              "        <th>medad</th>\n",
              "    </tr>\n",
              "</table>"
            ],
            "text/plain": [
              "[]"
            ]
          },
          "metadata": {
            "tags": []
          },
          "execution_count": 13
        }
      ]
    },
    {
      "cell_type": "markdown",
      "metadata": {
        "id": "QTyapWBsvGN9"
      },
      "source": [
        "**4.** Similarmente, busca los nombres de los magos con más de hechizos aprendidos 4 y cuya edad está entre 15 y 40 años.\n",
        "\n",
        "**Ayuda**: Combina condiciones en el `WHERE` usando `AND` y `OR`. Recuerda que para negar algo puedes usar `NOT`."
      ]
    },
    {
      "cell_type": "code",
      "metadata": {
        "id": "gS9W0pQavGN-",
        "colab": {
          "base_uri": "https://localhost:8080/",
          "height": 221
        },
        "outputId": "8ebd5674-ec93-46e9-9f46-24d1ab018006"
      },
      "source": [
        "%sql SELECT * FROM Magos WHERE mhechizos > 4 AND medad > 14 AND medad < 41"
      ],
      "execution_count": null,
      "outputs": [
        {
          "output_type": "stream",
          "text": [
            " * sqlite:///hogwarts.db\n",
            "Done.\n"
          ],
          "name": "stdout"
        },
        {
          "output_type": "execute_result",
          "data": {
            "text/html": [
              "<table>\n",
              "    <tr>\n",
              "        <th>mid</th>\n",
              "        <th>mnombre</th>\n",
              "        <th>mhechizos</th>\n",
              "        <th>medad</th>\n",
              "    </tr>\n",
              "    <tr>\n",
              "        <td>1</td>\n",
              "        <td>Harry</td>\n",
              "        <td>5.0</td>\n",
              "        <td>15</td>\n",
              "    </tr>\n",
              "    <tr>\n",
              "        <td>None</td>\n",
              "        <td>Harry</td>\n",
              "        <td>5.0</td>\n",
              "        <td>15</td>\n",
              "    </tr>\n",
              "    <tr>\n",
              "        <td>None</td>\n",
              "        <td>Voldemort</td>\n",
              "        <td>100.0</td>\n",
              "        <td>35</td>\n",
              "    </tr>\n",
              "    <tr>\n",
              "        <td>31</td>\n",
              "        <td>Harry</td>\n",
              "        <td>8.0</td>\n",
              "        <td>15</td>\n",
              "    </tr>\n",
              "    <tr>\n",
              "        <td>32</td>\n",
              "        <td>Carlos</td>\n",
              "        <td>40.0</td>\n",
              "        <td>40</td>\n",
              "    </tr>\n",
              "    <tr>\n",
              "        <td>58</td>\n",
              "        <td>Hermione</td>\n",
              "        <td>15.0</td>\n",
              "        <td>15</td>\n",
              "    </tr>\n",
              "    <tr>\n",
              "        <td>71</td>\n",
              "        <td>Pedro</td>\n",
              "        <td>10.0</td>\n",
              "        <td>16</td>\n",
              "    </tr>\n",
              "</table>"
            ],
            "text/plain": [
              "[(1, 'Harry', 5.0, 15),\n",
              " (None, 'Harry', 5.0, 15),\n",
              " (None, 'Voldemort', 100.0, 35),\n",
              " (31, 'Harry', 8.0, 15),\n",
              " (32, 'Carlos', 40.0, 40),\n",
              " (58, 'Hermione', 15.0, 15),\n",
              " (71, 'Pedro', 10.0, 16)]"
            ]
          },
          "metadata": {
            "tags": []
          },
          "execution_count": 48
        }
      ]
    },
    {
      "cell_type": "markdown",
      "metadata": {
        "id": "lolB5aqQvGOC"
      },
      "source": [
        "**5.** Busca la edad de los magos que no tienen una `'a'` en su nombre (recuerda usar `LIKE`)."
      ]
    },
    {
      "cell_type": "code",
      "metadata": {
        "id": "1QHLPm41vGOC",
        "colab": {
          "base_uri": "https://localhost:8080/",
          "height": 221
        },
        "outputId": "8e182446-4492-49dc-aa10-3a5e52c16fdb"
      },
      "source": [
        "%sql SELECT mnombre, medad FROM Magos WHERE mnombre NOT LIKE '%a%'"
      ],
      "execution_count": null,
      "outputs": [
        {
          "output_type": "stream",
          "text": [
            " * sqlite:///hogwarts.db\n",
            "Done.\n"
          ],
          "name": "stdout"
        },
        {
          "output_type": "execute_result",
          "data": {
            "text/html": [
              "<table>\n",
              "    <tr>\n",
              "        <th>mnombre</th>\n",
              "        <th>medad</th>\n",
              "    </tr>\n",
              "    <tr>\n",
              "        <td>Dumbledore</td>\n",
              "        <td>99</td>\n",
              "    </tr>\n",
              "    <tr>\n",
              "        <td>Ron</td>\n",
              "        <td>15</td>\n",
              "    </tr>\n",
              "    <tr>\n",
              "        <td>Hermione</td>\n",
              "        <td>15</td>\n",
              "    </tr>\n",
              "    <tr>\n",
              "        <td>Pedro</td>\n",
              "        <td>16</td>\n",
              "    </tr>\n",
              "    <tr>\n",
              "        <td>Severus</td>\n",
              "        <td>55</td>\n",
              "    </tr>\n",
              "    <tr>\n",
              "        <td>Remus</td>\n",
              "        <td>45</td>\n",
              "    </tr>\n",
              "    <tr>\n",
              "        <td>Felipe</td>\n",
              "        <td>63</td>\n",
              "    </tr>\n",
              "</table>"
            ],
            "text/plain": [
              "[('Dumbledore', 99),\n",
              " ('Ron', 15),\n",
              " ('Hermione', 15),\n",
              " ('Pedro', 16),\n",
              " ('Severus', 55),\n",
              " ('Remus', 45),\n",
              " ('Felipe', 63)]"
            ]
          },
          "metadata": {
            "tags": []
          },
          "execution_count": 24
        }
      ]
    },
    {
      "cell_type": "markdown",
      "metadata": {
        "id": "MquWXp8rvGOI"
      },
      "source": [
        "Escribe una consulta que entregue los nombres y hechizos de los magos, pero ordenado por `mhechizos`. Para ordenar agrega un `ORDER BY (<atr_1>, ..., <atr_N>) DESC` al final de tu consulta. Eso ordena los resultados por el atributo `<atr_1>`, después `<atr_2>`, etc. Prueba que pasa al eliminar el `DESC` al final del `ORDER BY`."
      ]
    },
    {
      "cell_type": "markdown",
      "metadata": {
        "id": "5QFZOvrQvGOJ"
      },
      "source": [
        "### Consultas de _join_, unión, intersección y diferencia\n",
        "\n",
        "Imaginemos que queremos encontrar los nombres de los magos que tomaron la asignatura 103. \n",
        "\n",
        "**6.** Escribe primero esta consulta en Álgebra relacional.\n",
        "\n",
        "Una forma directa para traspasarlo a SQL es con el comando `INNER JOIN`:"
      ]
    },
    {
      "cell_type": "code",
      "metadata": {
        "id": "LrSekIE1vGOJ",
        "colab": {
          "base_uri": "https://localhost:8080/",
          "height": 74
        },
        "outputId": "af9a9135-466e-4694-e2df-d69d4a1a3e6a"
      },
      "source": [
        "%%sql\n",
        "SELECT mnombre\n",
        "FROM Magos INNER JOIN Cursos\n",
        "ON Magos.mid = Cursos.mid\n",
        "WHERE Cursos.mid = 102"
      ],
      "execution_count": 28,
      "outputs": [
        {
          "output_type": "stream",
          "text": [
            " * sqlite:///hogwarts.db\n",
            "Done.\n"
          ],
          "name": "stdout"
        },
        {
          "output_type": "execute_result",
          "data": {
            "text/html": [
              "<table>\n",
              "    <tr>\n",
              "        <th>mnombre</th>\n",
              "    </tr>\n",
              "</table>"
            ],
            "text/plain": [
              "[]"
            ]
          },
          "metadata": {
            "tags": []
          },
          "execution_count": 28
        }
      ]
    },
    {
      "cell_type": "markdown",
      "metadata": {
        "id": "ZhCBpojJvGOO"
      },
      "source": [
        "Este es un buen minuto para repasar los joins. Puedes correr la consulta de arriba sin el `WHERE` para ver lo que sería el resultado de $\\text{Magos} \\bowtie_{\\text{mid}=\\text{mid}} \\text{Cursos}$. ¿Qué pasa al agregar la condición del `WHERE`?\n",
        "Si bien existe la instrucción `INNER JOIN`, una forma más clara (o que a nosotros nos gusta más) es explotando el producto cartesiano:"
      ]
    },
    {
      "cell_type": "code",
      "metadata": {
        "id": "1Zx4H_BGvGOO",
        "colab": {
          "base_uri": "https://localhost:8080/"
        },
        "outputId": "93d19704-1ff5-4b8b-8a69-1430b0ac9c24"
      },
      "source": [
        "%%sql\n",
        "SELECT mnombre\n",
        "FROM Magos, Asignaturas\n",
        "ON Magos.mid = Asignaturas.mid\n",
        "WHERE Asignaturas.mid = 102"
      ],
      "execution_count": null,
      "outputs": [
        {
          "output_type": "stream",
          "text": [
            " * sqlite:///hogwarts.db\n",
            "(sqlite3.OperationalError) no such table: Asignaturas\n",
            "[SQL: SELECT mnombre\n",
            "FROM Magos, Asignaturas\n",
            "ON Magos.mid = Asignaturas.mid\n",
            "WHERE Asignaturas.mid = 102]\n",
            "(Background on this error at: http://sqlalche.me/e/13/e3q8)\n"
          ],
          "name": "stdout"
        }
      ]
    },
    {
      "cell_type": "code",
      "metadata": {
        "id": "pgwVKxQkvGOQ",
        "colab": {
          "base_uri": "https://localhost:8080/"
        },
        "outputId": "2eae09aa-2650-4abe-cf23-3a6da3919f40"
      },
      "source": [
        "%%sql "
      ],
      "execution_count": null,
      "outputs": [
        {
          "output_type": "stream",
          "text": [
            "UsageError: %%sql is a cell magic, but the cell body is empty. Did you mean the line magic %sql (single %)?\n"
          ],
          "name": "stderr"
        }
      ]
    },
    {
      "cell_type": "markdown",
      "metadata": {
        "id": "cfkpYA2xvGOW"
      },
      "source": [
        "En este caso estamos aplicando el `WHERE` al Producto Cartesiano, y por eso incluimos la condición `WHERE Magos.mid = Cursos.mid`. ¿Entiendes por qué ambas consultas son equivalentes?\n",
        "\n",
        "Ahora intenta escribir las siguientes consultas:\n",
        "\n",
        "**7.** Los nombres de los magos que asistieron a un curso de plantas."
      ]
    },
    {
      "cell_type": "code",
      "metadata": {
        "id": "FSc0W2E_vGOZ",
        "colab": {
          "base_uri": "https://localhost:8080/",
          "height": 116
        },
        "outputId": "649dbf4c-14c1-420e-b426-e05c3aac1da6"
      },
      "source": [
        "%%sql SELECT  *\n",
        "FROM  Magos as m, Cursos as c\n",
        "WHERE m.mid = c.mid\n",
        "AND c.aid = 103"
      ],
      "execution_count": null,
      "outputs": [
        {
          "output_type": "stream",
          "text": [
            " * sqlite:///hogwarts.db\n",
            "Done.\n"
          ],
          "name": "stdout"
        },
        {
          "output_type": "execute_result",
          "data": {
            "text/html": [
              "<table>\n",
              "    <tr>\n",
              "        <th>mid</th>\n",
              "        <th>mnombre</th>\n",
              "        <th>mhechizos</th>\n",
              "        <th>medad</th>\n",
              "        <th>mid_1</th>\n",
              "        <th>aid</th>\n",
              "        <th>fecha</th>\n",
              "    </tr>\n",
              "    <tr>\n",
              "        <td>31</td>\n",
              "        <td>Harry</td>\n",
              "        <td>8.0</td>\n",
              "        <td>15</td>\n",
              "        <td>31</td>\n",
              "        <td>103</td>\n",
              "        <td>6-11-18</td>\n",
              "    </tr>\n",
              "    <tr>\n",
              "        <td>74</td>\n",
              "        <td>Severus</td>\n",
              "        <td>55.0</td>\n",
              "        <td>55</td>\n",
              "        <td>74</td>\n",
              "        <td>103</td>\n",
              "        <td>8-9-18</td>\n",
              "    </tr>\n",
              "</table>"
            ],
            "text/plain": [
              "[(31, 'Harry', 8.0, 15, 31, 103, '6-11-18'),\n",
              " (74, 'Severus', 55.0, 55, 74, 103, '8-9-18')]"
            ]
          },
          "metadata": {
            "tags": []
          },
          "execution_count": 71
        }
      ]
    },
    {
      "cell_type": "markdown",
      "metadata": {
        "id": "r02bkDnfvGOb"
      },
      "source": [
        "**8.** Los nombres de los magos que asistieron a un curso de plantas o encantamientos."
      ]
    },
    {
      "cell_type": "code",
      "metadata": {
        "id": "wQ7Tu6mLvGOd"
      },
      "source": [
        "%sql"
      ],
      "execution_count": null,
      "outputs": []
    },
    {
      "cell_type": "markdown",
      "metadata": {
        "id": "PHgAcF4XvGOf"
      },
      "source": [
        "**9.** La misma anterior, pero usando `UNION` para unir el resultado de dos consultas. Prueba usando `UNION` y luego `UNION ALL`. ¿Cuál es la diferencia?"
      ]
    },
    {
      "cell_type": "code",
      "metadata": {
        "id": "qqr7a0O2vGOf"
      },
      "source": [
        "%sql"
      ],
      "execution_count": null,
      "outputs": []
    },
    {
      "cell_type": "markdown",
      "metadata": {
        "id": "VgIvAYRuvGOu"
      },
      "source": [
        "**10.** Usa `AS` para cambiar de nombres a los atributos (esto es útil no solo para la unión!). La siguiente consulta entrega todos los ids del sistema:"
      ]
    },
    {
      "cell_type": "code",
      "metadata": {
        "id": "Nv1g1OY3vGOw"
      },
      "source": [
        "%%sql\n",
        "SELECT mid AS id\n",
        "FROM  Magos\n",
        "UNION\n",
        "SELECT mid AS id\n",
        "FROM Cursos"
      ],
      "execution_count": null,
      "outputs": []
    },
    {
      "cell_type": "markdown",
      "metadata": {
        "id": "gr2FxchOvGOy"
      },
      "source": [
        "**11.** Los nombres de los magos que tomaron un curso de plantas y otro de encantamientos. Puedes usar `INTERSECT` para intersectar el resultado de dos consultas. ¿Puedes escribir también esta consulta usando AND?"
      ]
    },
    {
      "cell_type": "code",
      "metadata": {
        "id": "MQlvxNCuvGOy"
      },
      "source": [
        "%sql"
      ],
      "execution_count": null,
      "outputs": []
    },
    {
      "cell_type": "markdown",
      "metadata": {
        "collapsed": true,
        "id": "_b87XHS5vGO0"
      },
      "source": [
        "### Sub-consultas y consultas anidadas\n",
        "\n",
        "Has observado que cada consulta entrega una tabla, los atributos de esa tabla son lo que pones en el `SELECT`. Esto significa que podemos poner cualquier consulta SQL en el `FROM`. Vamos a ver cómo realizar esto.\n",
        "\n",
        "**12.** Escribe una consulta que entregue los nombres de los magos junto a los mid de los cursos que han tomado, pero contando solo las asignaturas hechas después del primero de octubre del 2017."
      ]
    },
    {
      "cell_type": "code",
      "metadata": {
        "id": "PvPnkzWxvGO0",
        "colab": {
          "base_uri": "https://localhost:8080/",
          "height": 52
        },
        "outputId": "e3e09c55-d7a0-4747-9943-8db639c6b4f0"
      },
      "source": [
        "%sql"
      ],
      "execution_count": null,
      "outputs": [
        {
          "output_type": "stream",
          "text": [
            " * sqlite:///hogwarts.db\n"
          ],
          "name": "stdout"
        },
        {
          "output_type": "execute_result",
          "data": {
            "application/vnd.google.colaboratory.intrinsic+json": {
              "type": "string"
            },
            "text/plain": [
              "'Connected: @hogwarts.db'"
            ]
          },
          "metadata": {
            "tags": []
          },
          "execution_count": 15
        }
      ]
    },
    {
      "cell_type": "markdown",
      "metadata": {
        "id": "-6uusOeuvGO3"
      },
      "source": [
        "Sea $Q$ la consulta anterior. ¿Qué va a retornar la siguiente consulta? (Ojo, tienes que reemplazar el valor de $Q$ en la celda siguiente)"
      ]
    },
    {
      "cell_type": "code",
      "metadata": {
        "id": "9Wfgc7xtvGO3"
      },
      "source": [
        "%%sql\n",
        "SELECT Cursos.mid, mnombre, \n",
        "FROM Cursos, (Q) AS XX\n",
        "WHERE Cursos.mid = XX.mid"
      ],
      "execution_count": null,
      "outputs": []
    },
    {
      "cell_type": "markdown",
      "metadata": {
        "id": "vzkyCoWRvGO4"
      },
      "source": [
        "**Importante**: cada vez que quieras anidar una consulta en el `FROM`, debes darle un alias. En el caso anterior el alias es XX.\n",
        "\n",
        "**13.** Ahora modifica $Q$ para que solo retorne los cid de los cursos, y no los nombres de los magos. ¿Qué retorna la consulta a continuación? ¿Qué pasa si Q entrega dos atributos en vez de uno (es decir, usando $Q$ sin modificar)? ¿Por qué pasa esto?"
      ]
    },
    {
      "cell_type": "code",
      "metadata": {
        "id": "oybb6S49vGO5",
        "colab": {
          "base_uri": "https://localhost:8080/"
        },
        "outputId": "b5877b9e-9f3b-4eec-bd7a-5955ccd3b687"
      },
      "source": [
        "%%sql\n",
        "SELECT Cursos.aid, acreditos\n",
        "FROM Cursos\n",
        "WHERE Cursos.aid IN Q"
      ],
      "execution_count": null,
      "outputs": [
        {
          "output_type": "stream",
          "text": [
            " * sqlite:///hogwarts.db\n",
            "(sqlite3.OperationalError) no such table: Q\n",
            "[SQL: SELECT Cursos.aid, acreditos\n",
            "FROM Cursos\n",
            "WHERE Cursos.aid IN Q]\n",
            "(Background on this error at: http://sqlalche.me/e/13/e3q8)\n"
          ],
          "name": "stdout"
        }
      ]
    },
    {
      "cell_type": "markdown",
      "metadata": {
        "id": "w4yOkStkvGPC"
      },
      "source": [
        "También podemos usar consultas anidadas en el `WHERE`. Además del `IN` podemos usar `NOT IN`, o `> ANY`, `> ALL` para cualquier comparación entre `<`, `>`, `<=`, `>=`, `=`, y también anteponiendo `NOT`.\n",
        "\n",
        "**Ojo**: `ANY` y `All` no funcionan en SQLite, pero es muy común en los otros sistemas.\n",
        "\n",
        "Por ejemplo, si queremos encontrar los magos que no han cursado una asignatura de 3 créditos:\n",
        "\n",
        "1. Primero escribe una consulta que entregue los `mid` de los magos que han cursado una asignatura con un atributo específico.\n",
        "2. Sea $Q$ la consulta anterior. Los capitanes que no han cursado una asignatura se pueden extraer remplazando $Q$ en:"
      ]
    },
    {
      "cell_type": "code",
      "metadata": {
        "id": "m7oi6XC7vGPD"
      },
      "source": [
        "%%sql\n",
        "SELECT mnombre\n",
        "FROM Magos\n",
        "WHERE mid NOT IN (Q)"
      ],
      "execution_count": null,
      "outputs": []
    },
    {
      "cell_type": "markdown",
      "metadata": {
        "id": "wmSON1KNvGPN"
      },
      "source": [
        "Ahora:\n",
        "\n",
        "**14.** Encuentre los nombres de los magos que tienen más de 20 años y que no han tomado una asignatura concreta. ¿Puedes escribir esto sin usar consultas anidadas?"
      ]
    },
    {
      "cell_type": "code",
      "metadata": {
        "id": "t-_nupi5vGPO"
      },
      "source": [
        "%%sql"
      ],
      "execution_count": null,
      "outputs": []
    },
    {
      "cell_type": "markdown",
      "metadata": {
        "id": "GrQwjtLcvGPR"
      },
      "source": [
        "**15.** Encuentre los nombres de los magos que tomaron al menos dos cursos."
      ]
    },
    {
      "cell_type": "code",
      "metadata": {
        "id": "a42wbpb0vGPS"
      },
      "source": [
        "%%sql"
      ],
      "execution_count": null,
      "outputs": []
    },
    {
      "cell_type": "markdown",
      "metadata": {
        "id": "8LzPWSuivGPU"
      },
      "source": [
        "**16.** Encuentre los nombres de los magos que han tomado todos los cursos. ¿Puedes escribir esto sin usar consultas anidadas?"
      ]
    },
    {
      "cell_type": "code",
      "metadata": {
        "id": "1IQm33t4vGPV"
      },
      "source": [
        "%sql"
      ],
      "execution_count": null,
      "outputs": []
    },
    {
      "cell_type": "markdown",
      "metadata": {
        "id": "PvoUnRLsvGPX"
      },
      "source": [
        "### Agregación\n",
        "\n",
        "¿Qué pasa si queremos el mago con com más hechizos? Primero, podemos obtener la cantidad de hechizos con la siguiente consulta:"
      ]
    },
    {
      "cell_type": "code",
      "metadata": {
        "id": "MQ7Jlq3NvGPY"
      },
      "source": [
        "%%sql\n",
        "SELECT MAX(mhechizos)\n",
        "FROM Magos"
      ],
      "execution_count": null,
      "outputs": []
    },
    {
      "cell_type": "markdown",
      "metadata": {
        "id": "lMD46M4zvGPZ"
      },
      "source": [
        "Luego seleccionamos los nombres de aquellos magos con esos hechizos:"
      ]
    },
    {
      "cell_type": "code",
      "metadata": {
        "id": "v4R6EzSkvGPa"
      },
      "source": [
        "%%sql\n",
        "SELECT mnombre\n",
        "FROM Magos\n",
        "WHERE mhechizos = (SELECT MAX(mhechizos)\n",
        "                FROM Magos)"
      ],
      "execution_count": null,
      "outputs": []
    },
    {
      "cell_type": "markdown",
      "metadata": {
        "id": "p9yjDF4evGPb"
      },
      "source": [
        "En general SQL soporta varias funciones de agregación: `MAX`, `MIN` (mínimo), `AVG` (promedio), `SUM` (suma). Intenta hacer las siguientes consultas:\n",
        "\n",
        "**17.** Encuentra los hechizos promedio de los magos mayores a 25 años."
      ]
    },
    {
      "cell_type": "code",
      "metadata": {
        "id": "vb6ZMxa-vGPb"
      },
      "source": [
        "%sql"
      ],
      "execution_count": null,
      "outputs": []
    },
    {
      "cell_type": "markdown",
      "metadata": {
        "id": "sR_gEsGFvGPc"
      },
      "source": [
        "**18.** Encuentra los magos cuya edad es menor que el promedio."
      ]
    },
    {
      "cell_type": "code",
      "metadata": {
        "id": "YRWSdYTmvGPd"
      },
      "source": [
        "%sql"
      ],
      "execution_count": null,
      "outputs": []
    },
    {
      "cell_type": "markdown",
      "metadata": {
        "id": "ExNf7H1pvGPe"
      },
      "source": [
        "**19.** Encuentra los cursos que no han sido tomados por el mago con menos hechizos."
      ]
    },
    {
      "cell_type": "code",
      "metadata": {
        "id": "_Vm-0KLmvGPf"
      },
      "source": [
        "%sql"
      ],
      "execution_count": null,
      "outputs": []
    },
    {
      "cell_type": "markdown",
      "metadata": {
        "id": "NpZ4q3sUvGPg"
      },
      "source": [
        "También podemos usar `COUNT` para contar tuplas. Hay dos versiones (pruébalas!):\n",
        "\n",
        "- `SELECT COUNT(*) FROM Tabla` cuenta cuantas tuplas tiene la tabla.\n",
        "- `SELECT COUNT(DISTINCT mnombre) FROM Magos` cuenta cuantos nombres distintos hay en Magos.\n",
        "\n",
        "En general `SELECT COUNT(*) FROM Tabla` y `SELECT COUNT(atributo) FROM Tabla` es lo mismo, pero hay casos en los que es distinto: cuando las tablas tienen valores nulos o indefinidos. Hablaremos sobre esto más adelante en el curso.\n",
        "\n",
        "Ahora realiza las siguientes consultas."
      ]
    },
    {
      "cell_type": "markdown",
      "metadata": {
        "id": "miYHKOm0vGPg"
      },
      "source": [
        "**20.** Encuentra cuantos magos menores de 40 años hay."
      ]
    },
    {
      "cell_type": "code",
      "metadata": {
        "id": "MEyAv-6CvGPh"
      },
      "source": [
        "%sql"
      ],
      "execution_count": null,
      "outputs": []
    },
    {
      "cell_type": "markdown",
      "metadata": {
        "id": "ZmqaO6GtvGPj"
      },
      "source": [
        "**21.** Cuenta la cantidad de asignaturas cursadas en ..."
      ]
    },
    {
      "cell_type": "code",
      "metadata": {
        "id": "ja_Z5He_vGPj"
      },
      "source": [
        "%sql"
      ],
      "execution_count": null,
      "outputs": []
    },
    {
      "cell_type": "markdown",
      "metadata": {
        "id": "cm6jbaWavGPl"
      },
      "source": [
        "|**22.** Cuenta cuantos magos saben una cantidad de hechizos mayor al promedio y luego cuantos magos tienen saben una cantidad de hechizos menor al promedio."
      ]
    },
    {
      "cell_type": "code",
      "metadata": {
        "id": "L5e0nW_tvGPl"
      },
      "source": [
        "%sql"
      ],
      "execution_count": null,
      "outputs": []
    },
    {
      "cell_type": "markdown",
      "metadata": {
        "id": "gtWA8NiPvGP2"
      },
      "source": [
        "Finalmente podemos usar `GROUP BY` para ir agrupando los resultados. Prueba con la consulta:"
      ]
    },
    {
      "cell_type": "code",
      "metadata": {
        "id": "FrRqQuGWvGP2"
      },
      "source": [
        "%%sql\n",
        "SELECT mnombre, SUM(medad)\n",
        "FROM Magos\n",
        "GROUP BY mnombre"
      ],
      "execution_count": null,
      "outputs": []
    },
    {
      "cell_type": "markdown",
      "metadata": {
        "id": "aApCt7LGvGQE"
      },
      "source": [
        "¿Qué pasó con Harry? Lo que hacemos es agrupar a las dos tuplas con nombre Harry en una, y sumamos la edad. Prueba ahora:"
      ]
    },
    {
      "cell_type": "code",
      "metadata": {
        "id": "hG_6eap7vGQF"
      },
      "source": [
        "%%sql\n",
        "SELECT acreditos, count(acreditos)\n",
        "FROM Asignaturas\n",
        "GROUP BY acreditos"
      ],
      "execution_count": null,
      "outputs": []
    },
    {
      "cell_type": "markdown",
      "metadata": {
        "id": "a5ptSiSjvGQG"
      },
      "source": [
        "Ahora realiza las siguientes consultas:\n",
        "\n",
        "**23.** Encuentra para los magos el promedio de los hechizos por cada edad distinta."
      ]
    },
    {
      "cell_type": "code",
      "metadata": {
        "id": "NpLPoL_7vGQH"
      },
      "source": [
        "%sql"
      ],
      "execution_count": null,
      "outputs": []
    },
    {
      "cell_type": "markdown",
      "metadata": {
        "id": "0YucCbhjvGQL"
      },
      "source": [
        "**24.** Encuentra el número de cursos por cada cantidad de créditos de asignatura."
      ]
    },
    {
      "cell_type": "code",
      "metadata": {
        "id": "ME8qaLqSvGQM"
      },
      "source": [
        "%sql"
      ],
      "execution_count": null,
      "outputs": []
    },
    {
      "cell_type": "markdown",
      "metadata": {
        "id": "xZHX81kavGQN"
      },
      "source": [
        "**25.** Encuentra el numero de cursos por mago y por créditos de la asignatura."
      ]
    },
    {
      "cell_type": "code",
      "metadata": {
        "id": "0QGaNBA4vGQP"
      },
      "source": [
        "%sql"
      ],
      "execution_count": null,
      "outputs": []
    },
    {
      "cell_type": "markdown",
      "metadata": {
        "id": "eLLf8PudvGQR"
      },
      "source": [
        "### Inserción y eliminación más compleja\n",
        "\n",
        "Lo último que veremos es una forma de insertar y eliminar tuplas de forma más compleja. Por ejemplo podemos insertar valores de una consulta.\n",
        "\n",
        "**26.** Crea una tabla `MagosTop(mid INT, mnombre VARCHAR(100))`"
      ]
    },
    {
      "cell_type": "code",
      "metadata": {
        "id": "5bcM40U_vGQR"
      },
      "source": [
        "%sql"
      ],
      "execution_count": null,
      "outputs": []
    },
    {
      "cell_type": "markdown",
      "metadata": {
        "id": "jJ0k-wuavGQd"
      },
      "source": [
        "Ahora ejecuta la siguiente inserción. Nota que para insertar desde una consulta no debemos escribir la instrucción `VALUES`."
      ]
    },
    {
      "cell_type": "code",
      "metadata": {
        "id": "thfdX6oNvGQe"
      },
      "source": [
        "%%sql\n",
        "INSERT INTO MagosTop\n",
        "(SELECT mid,mnombre\n",
        "FROM Magos\n",
        "WHERE mhechizos > 8)"
      ],
      "execution_count": null,
      "outputs": []
    },
    {
      "cell_type": "code",
      "metadata": {
        "id": "OqFPqAptvGQk"
      },
      "source": [
        ""
      ],
      "execution_count": null,
      "outputs": []
    }
  ]
}